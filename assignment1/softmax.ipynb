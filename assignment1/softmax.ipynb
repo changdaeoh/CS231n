{
  "nbformat": 4,
  "nbformat_minor": 0,
  "metadata": {
    "colab": {
      "name": "softmax.ipynb",
      "provenance": [],
      "collapsed_sections": []
    },
    "language_info": {
      "name": "python"
    },
    "kernelspec": {
      "name": "python3",
      "display_name": "Python 3"
    }
  },
  "cells": [
    {
      "cell_type": "code",
      "metadata": {
        "colab": {
          "base_uri": "https://localhost:8080/"
        },
        "id": "7pBCea3YHNPs",
        "outputId": "32372829-f498-4444-9084-b32a6a9ed108"
      },
      "source": [
        "# This mounts your Google Drive to the Colab VM.\n",
        "from google.colab import drive\n",
        "drive.mount('/content/drive', force_remount=True)"
      ],
      "execution_count": null,
      "outputs": [
        {
          "output_type": "stream",
          "text": [
            "Mounted at /content/drive\n"
          ],
          "name": "stdout"
        }
      ]
    },
    {
      "cell_type": "code",
      "metadata": {
        "colab": {
          "base_uri": "https://localhost:8080/"
        },
        "id": "B1bi6RhRHP4P",
        "outputId": "6ebad964-1e0c-478e-bb08-322a538370ba"
      },
      "source": [
        "# Enter the foldername in your Drive where you have saved the unzipped\n",
        "# assignment folder, e.g. 'cs231n/assignments/assignment1/'\n",
        "FOLDERNAME = \"MLAI/cs231n_repo/assignment1/\"\n",
        "assert FOLDERNAME is not None, \"[!] Enter the foldername.\"\n",
        "\n",
        "# Now that we've mounted your Drive, this ensures that\n",
        "# the Python interpreter of the Colab VM can load\n",
        "# python files from within it.\n",
        "import sys\n",
        "sys.path.append('/content/drive/My Drive/{}'.format(FOLDERNAME))\n",
        "\n",
        "# This downloads the CIFAR-10 dataset to your Drive\n",
        "# if it doesn't already exist.\n",
        "%cd drive/My\\ Drive/$FOLDERNAME/cs231n/datasets/\n",
        "!bash get_datasets.sh\n",
        "%cd /content/drive/My\\ Drive/$FOLDERNAME"
      ],
      "execution_count": null,
      "outputs": [
        {
          "output_type": "stream",
          "text": [
            "/content/drive/My Drive/MLAI/cs231n_repo/assignment1/cs231n/datasets\n",
            "/content/drive/My Drive/MLAI/cs231n_repo/assignment1\n"
          ],
          "name": "stdout"
        }
      ]
    },
    {
      "cell_type": "markdown",
      "metadata": {
        "tags": [
          "pdf-title"
        ],
        "id": "UdBPFTvBHNPt"
      },
      "source": [
        "# Softmax exercise\n",
        "\n",
        "*Complete and hand in this completed worksheet (including its outputs and any supporting code outside of the worksheet) with your assignment submission. For more details see the [assignments page](http://vision.stanford.edu/teaching/cs231n/assignments.html) on the course website.*\n",
        "\n",
        "This exercise is analogous to the SVM exercise. You will:\n",
        "\n",
        "- implement a fully-vectorized **loss function** for the Softmax classifier\n",
        "- implement the fully-vectorized expression for its **analytic gradient**\n",
        "- **check your implementation** with numerical gradient\n",
        "- use a validation set to **tune the learning rate and regularization** strength\n",
        "- **optimize** the loss function with **SGD**\n",
        "- **visualize** the final learned weights\n"
      ]
    },
    {
      "cell_type": "code",
      "metadata": {
        "tags": [
          "pdf-ignore"
        ],
        "id": "aMfuAlVPHNPu"
      },
      "source": [
        "import random\n",
        "import numpy as np\n",
        "from cs231n.data_utils import load_CIFAR10\n",
        "import matplotlib.pyplot as plt\n",
        "\n",
        "%matplotlib inline\n",
        "plt.rcParams['figure.figsize'] = (10.0, 8.0) # set default size of plots\n",
        "plt.rcParams['image.interpolation'] = 'nearest'\n",
        "plt.rcParams['image.cmap'] = 'gray'\n",
        "\n",
        "# for auto-reloading extenrnal modules\n",
        "# see http://stackoverflow.com/questions/1907993/autoreload-of-modules-in-ipython\n",
        "%load_ext autoreload\n",
        "%autoreload 2"
      ],
      "execution_count": null,
      "outputs": []
    },
    {
      "cell_type": "code",
      "metadata": {
        "tags": [
          "pdf-ignore"
        ],
        "colab": {
          "base_uri": "https://localhost:8080/"
        },
        "id": "U5dFrXePHNPu",
        "outputId": "8c710363-2911-4566-f3f2-a3690555b672"
      },
      "source": [
        "def get_CIFAR10_data(num_training=49000, num_validation=1000, num_test=1000, num_dev=500):\n",
        "    \"\"\"\n",
        "    Load the CIFAR-10 dataset from disk and perform preprocessing to prepare\n",
        "    it for the linear classifier. These are the same steps as we used for the\n",
        "    SVM, but condensed to a single function.  \n",
        "    \"\"\"\n",
        "    # Load the raw CIFAR-10 data\n",
        "    cifar10_dir = 'cs231n/datasets/cifar-10-batches-py'\n",
        "    \n",
        "    # Cleaning up variables to prevent loading data multiple times (which may cause memory issue)\n",
        "    try:\n",
        "       del X_train, y_train\n",
        "       del X_test, y_test\n",
        "       print('Clear previously loaded data.')\n",
        "    except:\n",
        "       pass\n",
        "\n",
        "    X_train, y_train, X_test, y_test = load_CIFAR10(cifar10_dir)\n",
        "    \n",
        "    # subsample the data\n",
        "    mask = list(range(num_training, num_training + num_validation))\n",
        "    X_val = X_train[mask]\n",
        "    y_val = y_train[mask]\n",
        "    mask = list(range(num_training))\n",
        "    X_train = X_train[mask]\n",
        "    y_train = y_train[mask]\n",
        "    mask = list(range(num_test))\n",
        "    X_test = X_test[mask]\n",
        "    y_test = y_test[mask]\n",
        "    mask = np.random.choice(num_training, num_dev, replace=False)\n",
        "    X_dev = X_train[mask]\n",
        "    y_dev = y_train[mask]\n",
        "    \n",
        "    # Preprocessing: reshape the image data into rows\n",
        "    X_train = np.reshape(X_train, (X_train.shape[0], -1))\n",
        "    X_val = np.reshape(X_val, (X_val.shape[0], -1))\n",
        "    X_test = np.reshape(X_test, (X_test.shape[0], -1))\n",
        "    X_dev = np.reshape(X_dev, (X_dev.shape[0], -1))\n",
        "    \n",
        "    # Normalize the data: subtract the mean image\n",
        "    mean_image = np.mean(X_train, axis = 0)\n",
        "    X_train -= mean_image\n",
        "    X_val -= mean_image\n",
        "    X_test -= mean_image\n",
        "    X_dev -= mean_image\n",
        "    \n",
        "    # add bias dimension and transform into columns\n",
        "    X_train = np.hstack([X_train, np.ones((X_train.shape[0], 1))])\n",
        "    X_val = np.hstack([X_val, np.ones((X_val.shape[0], 1))])\n",
        "    X_test = np.hstack([X_test, np.ones((X_test.shape[0], 1))])\n",
        "    X_dev = np.hstack([X_dev, np.ones((X_dev.shape[0], 1))])\n",
        "    \n",
        "    return X_train, y_train, X_val, y_val, X_test, y_test, X_dev, y_dev\n",
        "\n",
        "\n",
        "# Invoke the above function to get our data.\n",
        "X_train, y_train, X_val, y_val, X_test, y_test, X_dev, y_dev = get_CIFAR10_data()\n",
        "print('Train data shape: ', X_train.shape)\n",
        "print('Train labels shape: ', y_train.shape)\n",
        "print('Validation data shape: ', X_val.shape)\n",
        "print('Validation labels shape: ', y_val.shape)\n",
        "print('Test data shape: ', X_test.shape)\n",
        "print('Test labels shape: ', y_test.shape)\n",
        "print('dev data shape: ', X_dev.shape)\n",
        "print('dev labels shape: ', y_dev.shape)"
      ],
      "execution_count": null,
      "outputs": [
        {
          "output_type": "stream",
          "text": [
            "Train data shape:  (49000, 3073)\n",
            "Train labels shape:  (49000,)\n",
            "Validation data shape:  (1000, 3073)\n",
            "Validation labels shape:  (1000,)\n",
            "Test data shape:  (1000, 3073)\n",
            "Test labels shape:  (1000,)\n",
            "dev data shape:  (500, 3073)\n",
            "dev labels shape:  (500,)\n"
          ],
          "name": "stdout"
        }
      ]
    },
    {
      "cell_type": "markdown",
      "metadata": {
        "id": "gX7iZNIZHNPv"
      },
      "source": [
        "## Softmax Classifier\n",
        "\n",
        "Your code for this section will all be written inside `cs231n/classifiers/softmax.py`.\n"
      ]
    },
    {
      "cell_type": "code",
      "metadata": {
        "colab": {
          "base_uri": "https://localhost:8080/"
        },
        "id": "bWPt-mq8HNPv",
        "outputId": "3bb86b50-e8d0-4ee3-bd14-7adeeeb07808"
      },
      "source": [
        "# First implement the naive softmax loss function with nested loops.\n",
        "# Open the file cs231n/classifiers/softmax.py and implement the\n",
        "# softmax_loss_naive function.\n",
        "\n",
        "from cs231n.classifiers.softmax import softmax_loss_naive\n",
        "import time\n",
        "\n",
        "# Generate a random softmax weight matrix and use it to compute the loss.\n",
        "W = np.random.randn(3073, 10) * 0.0001\n",
        "loss, grad = softmax_loss_naive(W, X_dev, y_dev, 0.0)\n",
        "\n",
        "# As a rough sanity check, our loss should be something close to -log(0.1).\n",
        "print('loss: %f' % loss)\n",
        "print('sanity check: %f' % (-np.log(0.1)))"
      ],
      "execution_count": null,
      "outputs": [
        {
          "output_type": "stream",
          "text": [
            "loss: 2.368106\n",
            "sanity check: 2.302585\n"
          ],
          "name": "stdout"
        }
      ]
    },
    {
      "cell_type": "markdown",
      "metadata": {
        "tags": [
          "pdf-inline"
        ],
        "id": "PX5AVMj1HNPw"
      },
      "source": [
        "**Inline Question 1**\n",
        "\n",
        "Why do we expect our loss to be close to -log(0.1)? Explain briefly.**\n",
        "\n",
        "$\\color{blue}{\\textit Your Answer:}$ *1 / # of class* \n",
        "\n"
      ]
    },
    {
      "cell_type": "code",
      "metadata": {
        "colab": {
          "base_uri": "https://localhost:8080/"
        },
        "id": "PCsMXajFHNPw",
        "outputId": "8bf0f2c7-2d59-4124-c4aa-ecfdf9f1c592"
      },
      "source": [
        "# Complete the implementation of softmax_loss_naive and implement a (naive)\n",
        "# version of the gradient that uses nested loops.\n",
        "loss, grad = softmax_loss_naive(W, X_dev, y_dev, 0.0)\n",
        "\n",
        "# As we did for the SVM, use numeric gradient checking as a debugging tool.\n",
        "# The numeric gradient should be close to the analytic gradient.\n",
        "from cs231n.gradient_check import grad_check_sparse\n",
        "f = lambda w: softmax_loss_naive(w, X_dev, y_dev, 0.0)[0]\n",
        "grad_numerical = grad_check_sparse(f, W, grad, 10)\n",
        "\n",
        "# similar to SVM case, do another gradient check with regularization\n",
        "loss, grad = softmax_loss_naive(W, X_dev, y_dev, 5e1)\n",
        "f = lambda w: softmax_loss_naive(w, X_dev, y_dev, 5e1)[0]\n",
        "grad_numerical = grad_check_sparse(f, W, grad, 10)"
      ],
      "execution_count": null,
      "outputs": [
        {
          "output_type": "stream",
          "text": [
            "numerical: 1.079773 analytic: 1.079773, relative error: 5.217412e-08\n",
            "numerical: -0.588043 analytic: -0.588043, relative error: 7.802755e-08\n",
            "numerical: 1.011064 analytic: 1.011064, relative error: 5.576590e-08\n",
            "numerical: 2.849644 analytic: 2.849644, relative error: 7.604376e-09\n",
            "numerical: 2.198145 analytic: 2.198145, relative error: 2.109916e-08\n",
            "numerical: 1.103302 analytic: 1.103302, relative error: 2.399015e-08\n",
            "numerical: -1.491371 analytic: -1.491371, relative error: 1.767023e-08\n",
            "numerical: -0.513120 analytic: -0.513120, relative error: 1.462955e-07\n",
            "numerical: -3.375234 analytic: -3.375234, relative error: 1.424340e-08\n",
            "numerical: 1.399345 analytic: 1.399345, relative error: 4.844373e-08\n",
            "numerical: -2.058579 analytic: -2.058579, relative error: 2.106841e-08\n",
            "numerical: -1.014403 analytic: -1.014403, relative error: 1.154585e-09\n",
            "numerical: 0.464438 analytic: 0.464438, relative error: 5.638087e-08\n",
            "numerical: 2.052870 analytic: 2.052870, relative error: 1.114988e-08\n",
            "numerical: 1.096924 analytic: 1.096924, relative error: 1.116898e-08\n",
            "numerical: 0.073120 analytic: 0.073120, relative error: 1.205922e-07\n",
            "numerical: -1.636695 analytic: -1.636695, relative error: 2.689085e-08\n",
            "numerical: 0.301662 analytic: 0.301662, relative error: 3.757491e-08\n",
            "numerical: 4.793825 analytic: 4.793825, relative error: 2.097789e-08\n",
            "numerical: 0.737328 analytic: 0.737328, relative error: 2.902061e-08\n"
          ],
          "name": "stdout"
        }
      ]
    },
    {
      "cell_type": "code",
      "metadata": {
        "colab": {
          "base_uri": "https://localhost:8080/"
        },
        "id": "NQFFq_bFHNPw",
        "outputId": "a53d806c-e62b-454a-f348-70080f3b47b8"
      },
      "source": [
        "# Now that we have a naive implementation of the softmax loss function and its gradient,\n",
        "# implement a vectorized version in softmax_loss_vectorized.\n",
        "# The two versions should compute the same results, but the vectorized version should be\n",
        "# much faster.\n",
        "tic = time.time()\n",
        "loss_naive, grad_naive = softmax_loss_naive(W, X_dev, y_dev, 0.000005)\n",
        "toc = time.time()\n",
        "print('naive loss: %e computed in %fs' % (loss_naive, toc - tic))\n",
        "\n",
        "from cs231n.classifiers.softmax import softmax_loss_vectorized\n",
        "tic = time.time()\n",
        "loss_vectorized, grad_vectorized = softmax_loss_vectorized(W, X_dev, y_dev, 0.000005)\n",
        "toc = time.time()\n",
        "print('vectorized loss: %e computed in %fs' % (loss_vectorized, toc - tic))\n",
        "\n",
        "# As we did for the SVM, we use the Frobenius norm to compare the two versions\n",
        "# of the gradient.\n",
        "grad_difference = np.linalg.norm(grad_naive - grad_vectorized, ord='fro')\n",
        "print('Loss difference: %f' % np.abs(loss_naive - loss_vectorized))\n",
        "print('Gradient difference: %f' % grad_difference)"
      ],
      "execution_count": null,
      "outputs": [
        {
          "output_type": "stream",
          "text": [
            "naive loss: 2.373445e+00 computed in 0.147764s\n",
            "(500,)\n",
            "vectorized loss: 2.373445e+00 computed in 0.035331s\n",
            "Loss difference: 0.000000\n",
            "Gradient difference: 0.000000\n"
          ],
          "name": "stdout"
        }
      ]
    },
    {
      "cell_type": "code",
      "metadata": {
        "id": "tuning",
        "tags": [
          "code"
        ],
        "colab": {
          "base_uri": "https://localhost:8080/"
        },
        "outputId": "a99d7355-16ec-4a02-afc7-01f9575dc772"
      },
      "source": [
        "# Use the validation set to tune hyperparameters (regularization strength and\n",
        "# learning rate). You should experiment with different ranges for the learning\n",
        "# rates and regularization strengths; if you are careful you should be able to\n",
        "# get a classification accuracy of over 0.35 on the validation set.\n",
        "\n",
        "from cs231n.classifiers import Softmax\n",
        "import collections\n",
        "\n",
        "results = collections.defaultdict(tuple)\n",
        "best_val = -1\n",
        "best_softmax = None\n",
        "\n",
        "################################################################################\n",
        "# TODO:                                                                        #\n",
        "# Use the validation set to set the learning rate and regularization strength. #\n",
        "# This should be identical to the validation that you did for the SVM; save    #\n",
        "# the best trained softmax classifer in best_softmax.                          #\n",
        "################################################################################\n",
        "\n",
        "# Provided as a reference. You may or may not want to change these hyperparameters\n",
        "learning_rates = np.logspace(-8, -4, num = 20)\n",
        "regularization_strengths = np.linspace(2e4, 5e4, num = 20)\n",
        "\n",
        "# *****START OF YOUR CODE (DO NOT DELETE/MODIFY THIS LINE)*****\n",
        "\n",
        "rs_iter = 20\n",
        "for iter in range(rs_iter):\n",
        "    # random hp combination\n",
        "    lr_idx = np.random.choice(len(learning_rates), size = 1)\n",
        "    reg_idx = np.random.choice(len(regularization_strengths), size = 1)\n",
        "    lr = float(learning_rates[lr_idx])\n",
        "    reg = float(regularization_strengths[reg_idx])\n",
        "        \n",
        "    # model init & fitting\n",
        "    sm = Softmax()\n",
        "    train_loss = sm.train(X_train, y_train, learning_rate=lr, reg=reg,\n",
        "                          num_iters=1500, verbose=False)\n",
        "        \n",
        "    # predict \n",
        "    train_pred = sm.predict(X_train)\n",
        "    train_acc = np.mean(y_train == train_pred)\n",
        "    val_pred = sm.predict(X_val)\n",
        "    val_acc = np.mean(y_val == val_pred)\n",
        "\n",
        "    # get results\n",
        "    results[(lr, reg)] = (train_acc, val_acc)\n",
        "\n",
        "    if val_acc > best_val:\n",
        "        best_val = val_acc\n",
        "        best_softmax = sm\n",
        "\n",
        "# *****END OF YOUR CODE (DO NOT DELETE/MODIFY THIS LINE)*****\n",
        "    \n",
        "# Print out results.\n",
        "for lr, reg in sorted(results):\n",
        "    train_accuracy, val_accuracy = results[(lr, reg)]\n",
        "    print('lr %e reg %e train accuracy: %f val accuracy: %f' % (\n",
        "                lr, reg, train_accuracy, val_accuracy))\n",
        "    \n",
        "print('best validation accuracy achieved during cross-validation: %f' % best_val)"
      ],
      "execution_count": null,
      "outputs": [
        {
          "output_type": "stream",
          "text": [
            "/content/drive/My Drive/MLAI/cs231n_repo/assignment1/cs231n/classifiers/softmax.py:99: RuntimeWarning: divide by zero encountered in log\n",
            "  loss = np.sum((-1)*np.log(T_class_P))\n",
            "/content/drive/My Drive/MLAI/cs231n_repo/assignment1/cs231n/classifiers/softmax.py:104: RuntimeWarning: divide by zero encountered in true_divide\n",
            "  dSM = -1/T_class_P                    # (N,)\n",
            "/content/drive/My Drive/MLAI/cs231n_repo/assignment1/cs231n/classifiers/softmax.py:108: RuntimeWarning: invalid value encountered in multiply\n",
            "  dL_dS = dSM.reshape(num_train,1) * dS\n"
          ],
          "name": "stderr"
        },
        {
          "output_type": "stream",
          "text": [
            "lr 1.000000e-08 reg 3.736842e+04 train accuracy: 0.196796 val accuracy: 0.228000\n",
            "lr 1.000000e-08 reg 4.842105e+04 train accuracy: 0.226306 val accuracy: 0.235000\n",
            "lr 1.623777e-08 reg 2.789474e+04 train accuracy: 0.221714 val accuracy: 0.216000\n",
            "lr 1.623777e-08 reg 3.894737e+04 train accuracy: 0.245755 val accuracy: 0.250000\n",
            "lr 2.636651e-08 reg 3.263158e+04 train accuracy: 0.298429 val accuracy: 0.321000\n",
            "lr 2.636651e-08 reg 4.368421e+04 train accuracy: 0.306122 val accuracy: 0.318000\n",
            "lr 4.281332e-08 reg 3.263158e+04 train accuracy: 0.322898 val accuracy: 0.343000\n",
            "lr 6.951928e-08 reg 3.894737e+04 train accuracy: 0.317184 val accuracy: 0.330000\n",
            "lr 6.951928e-08 reg 4.842105e+04 train accuracy: 0.309102 val accuracy: 0.323000\n",
            "lr 1.832981e-07 reg 5.000000e+04 train accuracy: 0.313020 val accuracy: 0.323000\n",
            "lr 7.847600e-07 reg 2.315789e+04 train accuracy: 0.324735 val accuracy: 0.336000\n",
            "lr 7.847600e-07 reg 4.526316e+04 train accuracy: 0.289551 val accuracy: 0.315000\n",
            "lr 1.274275e-06 reg 3.578947e+04 train accuracy: 0.292959 val accuracy: 0.299000\n",
            "lr 2.069138e-06 reg 4.210526e+04 train accuracy: 0.276592 val accuracy: 0.263000\n",
            "lr 5.455595e-06 reg 2.631579e+04 train accuracy: 0.170224 val accuracy: 0.161000\n",
            "lr 5.455595e-06 reg 3.105263e+04 train accuracy: 0.155837 val accuracy: 0.152000\n",
            "lr 5.455595e-06 reg 3.736842e+04 train accuracy: 0.191224 val accuracy: 0.222000\n",
            "lr 8.858668e-06 reg 4.368421e+04 train accuracy: 0.135204 val accuracy: 0.118000\n",
            "lr 3.792690e-05 reg 3.736842e+04 train accuracy: 0.100265 val accuracy: 0.087000\n",
            "lr 3.792690e-05 reg 3.894737e+04 train accuracy: 0.100265 val accuracy: 0.087000\n",
            "best validation accuracy achieved during cross-validation: 0.343000\n"
          ],
          "name": "stdout"
        }
      ]
    },
    {
      "cell_type": "code",
      "metadata": {
        "id": "test",
        "colab": {
          "base_uri": "https://localhost:8080/"
        },
        "outputId": "e8c8f2d3-2faf-449e-afdb-f106d16f679a"
      },
      "source": [
        "# evaluate on test set\n",
        "# Evaluate the best softmax on test set\n",
        "y_test_pred = best_softmax.predict(X_test)\n",
        "test_accuracy = np.mean(y_test == y_test_pred)\n",
        "print('softmax on raw pixels final test set accuracy: %f' % (test_accuracy, ))"
      ],
      "execution_count": null,
      "outputs": [
        {
          "output_type": "stream",
          "text": [
            "softmax on raw pixels final test set accuracy: 0.342000\n"
          ],
          "name": "stdout"
        }
      ]
    },
    {
      "cell_type": "markdown",
      "metadata": {
        "tags": [
          "pdf-inline"
        ],
        "id": "2uki8H-mHNPx"
      },
      "source": [
        "**Inline Question 2** - *True or False*\n",
        "\n",
        "Suppose the overall training loss is defined as the sum of the per-datapoint loss over all training examples. It is possible to add a new datapoint to a training set that would leave the SVM loss unchanged, but this is not the case with the Softmax classifier loss.\n",
        "\n",
        "$\\color{blue}{\\textit Your Answer:}$ T\n",
        "\n",
        "\n",
        "$\\color{blue}{\\textit Your Explanation:}$ SVM loss의 경우 어떤 관측이 margin 이상으로 true class score가 높으면 해당 관측에 대한 loss가 0이 되지만, Softmax의 경우 출력확률이 정확히 [0,0,1] 이런식으로 되지 않는 이상 모든 관측에 대해 언제나 0보다 큰 loss가 산출되기때문\n",
        "\n"
      ]
    },
    {
      "cell_type": "code",
      "metadata": {
        "colab": {
          "base_uri": "https://localhost:8080/",
          "height": 380
        },
        "id": "bTiDCWrRHNPx",
        "outputId": "962bedf9-c6f1-4cb3-d086-40a6bcf369e1"
      },
      "source": [
        "# Visualize the learned weights for each class\n",
        "w = best_softmax.W[:-1,:] # strip out the bias\n",
        "w = w.reshape(32, 32, 3, 10)\n",
        "\n",
        "w_min, w_max = np.min(w), np.max(w)\n",
        "\n",
        "classes = ['plane', 'car', 'bird', 'cat', 'deer', 'dog', 'frog', 'horse', 'ship', 'truck']\n",
        "for i in range(10):\n",
        "    plt.subplot(2, 5, i + 1)\n",
        "    \n",
        "    # Rescale the weights to be between 0 and 255\n",
        "    wimg = 255.0 * (w[:, :, :, i].squeeze() - w_min) / (w_max - w_min)\n",
        "    plt.imshow(wimg.astype('uint8'))\n",
        "    plt.axis('off')\n",
        "    plt.title(classes[i])"
      ],
      "execution_count": null,
      "outputs": [
        {
          "output_type": "display_data",
          "data": {
            "image/png": "[encoded data removed]",
            "text/plain": [
              "<Figure size 720x576 with 10 Axes>"
            ]
          },
          "metadata": {
            "tags": [],
            "needs_background": "light"
          }
        }
      ]
    },
    {
      "cell_type": "markdown",
      "metadata": {
        "id": "gIZ5eBqnuW_4"
      },
      "source": [
        "# Reference\n",
        "* [NLLloss vs CELoss](https://discuss.pytorch.org/t/difference-between-cross-entropy-loss-or-log-likelihood-loss/38816)\n",
        "* [numpy softmax](https://www.delftstack.com/ko/howto/numpy/numpy-softmax/)\n",
        "* [derivative of softmax1](https://eli.thegreenplace.net/2016/the-softmax-function-and-its-derivative/)\n",
        "* [derivative of softmax1](https://www.mldawn.com/the-derivative-of-softmaxz-function-w-r-t-z/)"
      ]
    }
  ]
}